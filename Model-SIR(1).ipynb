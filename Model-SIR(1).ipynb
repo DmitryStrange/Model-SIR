{
 "cells": [
  {
   "cell_type": "code",
   "execution_count": 83,
   "metadata": {},
   "outputs": [
    {
     "name": "stdout",
     "output_type": "stream",
     "text": [
      "Requirement already satisfied: mpld3 in c:\\programdata\\anaconda3\\lib\\site-packages (0.5.1)\n",
      "Requirement already satisfied: matplotlib in c:\\programdata\\anaconda3\\lib\\site-packages (from mpld3) (3.2.2)\n",
      "Requirement already satisfied: jinja2 in c:\\programdata\\anaconda3\\lib\\site-packages (from mpld3) (2.11.2)\n",
      "Requirement already satisfied: cycler>=0.10 in c:\\programdata\\anaconda3\\lib\\site-packages (from matplotlib->mpld3) (0.10.0)\n",
      "Requirement already satisfied: numpy>=1.11 in c:\\programdata\\anaconda3\\lib\\site-packages (from matplotlib->mpld3) (1.18.5)\n",
      "Requirement already satisfied: kiwisolver>=1.0.1 in c:\\programdata\\anaconda3\\lib\\site-packages (from matplotlib->mpld3) (1.2.0)\n",
      "Requirement already satisfied: pyparsing!=2.0.4,!=2.1.2,!=2.1.6,>=2.0.1 in c:\\programdata\\anaconda3\\lib\\site-packages (from matplotlib->mpld3) (2.4.7)\n",
      "Requirement already satisfied: python-dateutil>=2.1 in c:\\programdata\\anaconda3\\lib\\site-packages (from matplotlib->mpld3) (2.8.1)\n",
      "Requirement already satisfied: MarkupSafe>=0.23 in c:\\programdata\\anaconda3\\lib\\site-packages (from jinja2->mpld3) (1.1.1)\n",
      "Requirement already satisfied: six in c:\\programdata\\anaconda3\\lib\\site-packages (from cycler>=0.10->matplotlib->mpld3) (1.15.0)\n"
     ]
    }
   ],
   "source": [
    "from scipy.integrate import odeint\n",
    "import numpy as np\n",
    "import matplotlib.pyplot as plt\n",
    "%matplotlib inline \n",
    "!pip install mpld3\n",
    "import mpld3\n",
    "mpld3.enable_notebook()"
   ]
  },
  {
   "cell_type": "code",
   "execution_count": 84,
   "metadata": {},
   "outputs": [],
   "source": [
    "def plotseird(t, colors, **kwargs):\n",
    "  f, ax = plt.subplots(1,1,figsize=(10, 6))\n",
    "\n",
    "  for metric_name, metric_values in kwargs.items():\n",
    "    color = colors.get(metric_name, 'b')\n",
    "    ax.plot(t, metric_values, color, alpha=0.8, linewidth=2.5, label=metric_name)\n",
    "\n",
    "  ax.set_xlabel('Time (days)', labelpad = 12)\n",
    "  # ax.set_ylabel('Population', labelpad = 35)\n",
    "  ax.yaxis.set_tick_params(length=0)\n",
    "  ax.xaxis.set_tick_params(length=0)\n",
    "  ax.grid(b=True, which='major', c='w', lw=2, ls='-')\n",
    "  legend = ax.legend(borderpad=2.0)\n",
    "  legend.get_frame().set_alpha(0.6)\n",
    "  for spine in ('top', 'right', 'bottom', 'left'):\n",
    "      ax.spines[spine].set_visible(False)\n",
    "  plt.savefig('last.png')\n",
    "  plt.show()"
   ]
  },
  {
   "cell_type": "code",
   "execution_count": 85,
   "metadata": {},
   "outputs": [],
   "source": [
    "def deriv(y, t, betta0, gamma, N0, fi, g, lmb, T, k, eps, alph, test):\n",
    "    S, I, R, D, M, P = y\n",
    "    \n",
    "    dPdt = g * D - lmb * P                        #2.1f\n",
    "    \n",
    "    betta = betta0 * (test ** (-eps * T)) * abs(1+alph) * abs(1 - (dPdt/N0) ** k)\n",
    "    #убрал H\n",
    "    dSdt = (-betta / N0) * I * S               #2.1a\n",
    "    dIdt = (betta / N0) * S * I - (gamma * I)   #2.1b\n",
    "    dRdt = (1 - fi) * I * gamma                   #2.1c\n",
    "    dDdt = fi * gamma * I - g * D                 #2.1d\n",
    "    dMdt = g * D                                  #2.1e\n",
    "    \n",
    "    N = dSdt + dIdt + dRdt + dDdt + dMdt\n",
    "    return betta, dSdt, dIdt, dRdt, dDdt, dMdt, dPdt, N"
   ]
  },
  {
   "cell_type": "code",
   "execution_count": 86,
   "metadata": {},
   "outputs": [],
   "source": [
    "def get_report(deriv, S0, betta0, gamma, N0, fi, g, lmb, T, k, eps, alph, test, I0, R0, D0, M0, P0):\n",
    "  t = np.linspace(0, 364, 365) # Grid of time points (in days)\n",
    "  y0 = S0, I0, R0, D0, M0, P0\n",
    "\n",
    "  # Integrate the SIR equations over the time grid, t.\n",
    "  ret = odeint(deriv, y0, t, args=(betta0, gamma, N0, fi, g, lmb, T, k, eps, alph, test))\n",
    "  S, I, R, D, M, P = ret.T\n",
    "\n",
    "  COLORS_MAP = {\n",
    "    \"Susceptible\" : '-.b',\n",
    "    \"Exposed\": '--c',\n",
    "    \"Infected\": 'r',\n",
    "    \"Recovered\": '--g',\n",
    "    \"Cumulative\": 'm',\n",
    "    \"Population\": \"violet\",\n",
    "    \"Dead\": \"-.k\"\n",
    "  }\n",
    "  plotseird(t, colors = COLORS_MAP, Exposed = E, Infected = I, Dead = D)\n",
    "  plotseird(t, colors = COLORS_MAP, Infected = I, Recovered = R, Susceptible = S)"
   ]
  },
  {
   "cell_type": "code",
   "execution_count": 87,
   "metadata": {},
   "outputs": [
    {
     "ename": "RuntimeError",
     "evalue": "The size of the array returned by func (8) does not match the size of y0 (6).",
     "output_type": "error",
     "traceback": [
      "\u001b[1;31m---------------------------------------------------------------------------\u001b[0m",
      "\u001b[1;31mRuntimeError\u001b[0m                              Traceback (most recent call last)",
      "\u001b[1;32m<ipython-input-87-46368cae78a7>\u001b[0m in \u001b[0;36m<module>\u001b[1;34m\u001b[0m\n\u001b[0;32m     20\u001b[0m \u001b[1;33m\u001b[0m\u001b[0m\n\u001b[0;32m     21\u001b[0m )\n\u001b[1;32m---> 22\u001b[1;33m \u001b[0mget_report\u001b[0m\u001b[1;33m(\u001b[0m\u001b[0mderiv\u001b[0m\u001b[1;33m,\u001b[0m \u001b[1;33m**\u001b[0m\u001b[0mparameters\u001b[0m\u001b[1;33m)\u001b[0m\u001b[1;33m\u001b[0m\u001b[1;33m\u001b[0m\u001b[0m\n\u001b[0m",
      "\u001b[1;32m<ipython-input-86-284773366011>\u001b[0m in \u001b[0;36mget_report\u001b[1;34m(deriv, S0, betta0, gamma, N0, fi, g, lmb, T, k, eps, alph, test, I0, R0, D0, M0, P0)\u001b[0m\n\u001b[0;32m      4\u001b[0m \u001b[1;33m\u001b[0m\u001b[0m\n\u001b[0;32m      5\u001b[0m   \u001b[1;31m# Integrate the SIR equations over the time grid, t.\u001b[0m\u001b[1;33m\u001b[0m\u001b[1;33m\u001b[0m\u001b[1;33m\u001b[0m\u001b[0m\n\u001b[1;32m----> 6\u001b[1;33m   \u001b[0mret\u001b[0m \u001b[1;33m=\u001b[0m \u001b[0modeint\u001b[0m\u001b[1;33m(\u001b[0m\u001b[0mderiv\u001b[0m\u001b[1;33m,\u001b[0m \u001b[0my0\u001b[0m\u001b[1;33m,\u001b[0m \u001b[0mt\u001b[0m\u001b[1;33m,\u001b[0m \u001b[0margs\u001b[0m\u001b[1;33m=\u001b[0m\u001b[1;33m(\u001b[0m\u001b[0mbetta0\u001b[0m\u001b[1;33m,\u001b[0m \u001b[0mgamma\u001b[0m\u001b[1;33m,\u001b[0m \u001b[0mN0\u001b[0m\u001b[1;33m,\u001b[0m \u001b[0mfi\u001b[0m\u001b[1;33m,\u001b[0m \u001b[0mg\u001b[0m\u001b[1;33m,\u001b[0m \u001b[0mlmb\u001b[0m\u001b[1;33m,\u001b[0m \u001b[0mT\u001b[0m\u001b[1;33m,\u001b[0m \u001b[0mk\u001b[0m\u001b[1;33m,\u001b[0m \u001b[0meps\u001b[0m\u001b[1;33m,\u001b[0m \u001b[0malph\u001b[0m\u001b[1;33m,\u001b[0m \u001b[0mtest\u001b[0m\u001b[1;33m)\u001b[0m\u001b[1;33m)\u001b[0m\u001b[1;33m\u001b[0m\u001b[1;33m\u001b[0m\u001b[0m\n\u001b[0m\u001b[0;32m      7\u001b[0m   \u001b[0mS\u001b[0m\u001b[1;33m,\u001b[0m \u001b[0mI\u001b[0m\u001b[1;33m,\u001b[0m \u001b[0mR\u001b[0m\u001b[1;33m,\u001b[0m \u001b[0mD\u001b[0m\u001b[1;33m,\u001b[0m \u001b[0mM\u001b[0m\u001b[1;33m,\u001b[0m \u001b[0mP\u001b[0m \u001b[1;33m=\u001b[0m \u001b[0mret\u001b[0m\u001b[1;33m.\u001b[0m\u001b[0mT\u001b[0m\u001b[1;33m\u001b[0m\u001b[1;33m\u001b[0m\u001b[0m\n\u001b[0;32m      8\u001b[0m \u001b[1;33m\u001b[0m\u001b[0m\n",
      "\u001b[1;32mC:\\ProgramData\\Anaconda3\\lib\\site-packages\\scipy\\integrate\\odepack.py\u001b[0m in \u001b[0;36modeint\u001b[1;34m(func, y0, t, args, Dfun, col_deriv, full_output, ml, mu, rtol, atol, tcrit, h0, hmax, hmin, ixpr, mxstep, mxhnil, mxordn, mxords, printmessg, tfirst)\u001b[0m\n\u001b[0;32m    239\u001b[0m     \u001b[0mt\u001b[0m \u001b[1;33m=\u001b[0m \u001b[0mcopy\u001b[0m\u001b[1;33m(\u001b[0m\u001b[0mt\u001b[0m\u001b[1;33m)\u001b[0m\u001b[1;33m\u001b[0m\u001b[1;33m\u001b[0m\u001b[0m\n\u001b[0;32m    240\u001b[0m     \u001b[0my0\u001b[0m \u001b[1;33m=\u001b[0m \u001b[0mcopy\u001b[0m\u001b[1;33m(\u001b[0m\u001b[0my0\u001b[0m\u001b[1;33m)\u001b[0m\u001b[1;33m\u001b[0m\u001b[1;33m\u001b[0m\u001b[0m\n\u001b[1;32m--> 241\u001b[1;33m     output = _odepack.odeint(func, y0, t, args, Dfun, col_deriv, ml, mu,\n\u001b[0m\u001b[0;32m    242\u001b[0m                              \u001b[0mfull_output\u001b[0m\u001b[1;33m,\u001b[0m \u001b[0mrtol\u001b[0m\u001b[1;33m,\u001b[0m \u001b[0matol\u001b[0m\u001b[1;33m,\u001b[0m \u001b[0mtcrit\u001b[0m\u001b[1;33m,\u001b[0m \u001b[0mh0\u001b[0m\u001b[1;33m,\u001b[0m \u001b[0mhmax\u001b[0m\u001b[1;33m,\u001b[0m \u001b[0mhmin\u001b[0m\u001b[1;33m,\u001b[0m\u001b[1;33m\u001b[0m\u001b[1;33m\u001b[0m\u001b[0m\n\u001b[0;32m    243\u001b[0m                              \u001b[0mixpr\u001b[0m\u001b[1;33m,\u001b[0m \u001b[0mmxstep\u001b[0m\u001b[1;33m,\u001b[0m \u001b[0mmxhnil\u001b[0m\u001b[1;33m,\u001b[0m \u001b[0mmxordn\u001b[0m\u001b[1;33m,\u001b[0m \u001b[0mmxords\u001b[0m\u001b[1;33m,\u001b[0m\u001b[1;33m\u001b[0m\u001b[1;33m\u001b[0m\u001b[0m\n",
      "\u001b[1;31mRuntimeError\u001b[0m: The size of the array returned by func (8) does not match the size of y0 (6)."
     ]
    }
   ],
   "source": [
    "parameters = dict(\n",
    "    betta0 = 1,              #Базовая скорость передачи\n",
    "    gamma = 4 / 8.,         #Cредний инфекционный период\n",
    "    N0 = 130000,            #Общее число населения\n",
    "    fi = 0.0043,            #доля смертности\n",
    "    g = 1,                  #\n",
    "    lmb = 0.1,                 #Cредняя продолжительность общественной реакции\n",
    "    T = 0.1,                   #Температура\n",
    "    k = 695.1,              #Скорость реагирования\n",
    "    eps = 0.016,            #Интенсивность влияния изменения температуры.\n",
    "    alph = 0.130,           #сила правительственных действий\n",
    "    test = 1, #e\n",
    "    \n",
    "    S0 = 130000,    #initial susceptible population\n",
    "    I0 = 0.00025,                 # Initial Exposed\n",
    "    R0 = 0,                 # Initial Infectious\n",
    "    D0 = 0,                 # Initial Removed\n",
    "    M0 = 0,                 # Inital Dead\n",
    "    P0 = 0                  # Initial Cumulative cases\n",
    "    \n",
    ")\n",
    "get_report(deriv, **parameters)"
   ]
  },
  {
   "cell_type": "code",
   "execution_count": null,
   "metadata": {},
   "outputs": [],
   "source": []
  },
  {
   "cell_type": "code",
   "execution_count": null,
   "metadata": {},
   "outputs": [],
   "source": []
  }
 ],
 "metadata": {
  "kernelspec": {
   "display_name": "Python 3",
   "language": "python",
   "name": "python3"
  },
  "language_info": {
   "codemirror_mode": {
    "name": "ipython",
    "version": 3
   },
   "file_extension": ".py",
   "mimetype": "text/x-python",
   "name": "python",
   "nbconvert_exporter": "python",
   "pygments_lexer": "ipython3",
   "version": "3.8.3"
  }
 },
 "nbformat": 4,
 "nbformat_minor": 4
}
